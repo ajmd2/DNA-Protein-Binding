{
 "cells": [
  {
   "cell_type": "code",
   "execution_count": 1,
   "metadata": {
    "colab": {
     "base_uri": "https://localhost:8080/"
    },
    "executionInfo": {
     "elapsed": 3103,
     "status": "ok",
     "timestamp": 1616734770270,
     "user": {
      "displayName": "Hugo Zhang",
      "photoUrl": "https://lh3.googleusercontent.com/a-/AOh14Gi87uWoq95BtUT0g8tmuQXbiVZqVIDr4K4YB-Lk=s64",
      "userId": "08510036422986421161"
     },
     "user_tz": -480
    },
    "id": "q603I9RShgQb",
    "outputId": "09fca758-394e-4fa3-dc35-b8d9ef989bef"
   },
   "outputs": [
    {
     "name": "stdout",
     "output_type": "stream",
     "text": [
      "Tensorflow Edition: 2.4.1\n"
     ]
    }
   ],
   "source": [
    "import tensorflow as tf\n",
    "import re\n",
    "import numpy as np\n",
    "import pandas as pd\n",
    "import matplotlib.pyplot as plt\n",
    "import seaborn as sns\n",
    "import warnings\n",
    "import matplotlib\n",
    "\n",
    "print(\"Tensorflow Edition:\", tf.__version__)\n",
    "seed = 2020\n",
    "np.random.seed(seed)\n",
    "tf.random.set_seed(seed)\n",
    "\n",
    "sns.set(font='SimHei', style='whitegrid',\\\n",
    "        palette='muted',context= 'paper') \n",
    "\n",
    "warnings.filterwarnings('ignore')\n",
    "%matplotlib inline"
   ]
  },
  {
   "cell_type": "code",
   "execution_count": null,
   "metadata": {
    "colab": {
     "background_save": true,
     "base_uri": "https://localhost:8080/"
    },
    "id": "Lyrpvj6cjOEm"
   },
   "outputs": [
    {
     "name": "stdout",
     "output_type": "stream",
     "text": [
      "Mounted at /content/drive\n"
     ]
    }
   ],
   "source": [
    "from google.colab import drive\n",
    "drive.mount(\"/content/drive\", force_remount=True)"
   ]
  },
  {
   "cell_type": "code",
   "execution_count": null,
   "metadata": {
    "colab": {
     "background_save": true
    },
    "id": "uEIIgCM2hgQ2"
   },
   "outputs": [],
   "source": [
    "DATA_PROJECT = '/content/drive/MyDrive/Project/Data/'\n",
    "SAVE_PATH = '/content/drive/MyDrive/Project/Model/'\n",
    "X_train = np.load(DATA_PROJECT+'train.npy')\n",
    "y_train = np.load(DATA_PROJECT+'train_labels.npy')\n",
    "X_valid = np.load(DATA_PROJECT+'valid.npy')\n",
    "y_valid = np.load(DATA_PROJECT+'valid_labels.npy')\n",
    "X_test = np.load(DATA_PROJECT+'test.npy')\n",
    "y_test = np.load(DATA_PROJECT+'test_labels.npy')"
   ]
  },
  {
   "cell_type": "code",
   "execution_count": null,
   "metadata": {
    "colab": {
     "background_save": true
    },
    "id": "IoKz-ZQQhgQ6"
   },
   "outputs": [],
   "source": [
    "import tensorflow as tf\n",
    "import tensorflow.keras.layers as layers\n",
    "from tensorflow.keras.models import Sequential, Model\n",
    "from tensorflow.keras.layers import Dense, Dropout, Flatten, Activation, BatchNormalization\n",
    "from tensorflow.keras.layers import LSTM, GRU\n",
    "from tensorflow.keras.callbacks import CSVLogger"
   ]
  },
  {
   "cell_type": "code",
   "execution_count": null,
   "metadata": {
    "colab": {
     "background_save": true
    },
    "id": "9zDICsyshgRD"
   },
   "outputs": [
    {
     "name": "stdout",
     "output_type": "stream",
     "text": [
      "Model: \"sequential\"\n",
      "_________________________________________________________________\n",
      "Layer (type)                 Output Shape              Param #   \n",
      "=================================================================\n",
      "bidirectional (Bidirectional (None, 101, 128)          26880     \n",
      "_________________________________________________________________\n",
      "batch_normalization (BatchNo (None, 101, 128)          512       \n",
      "_________________________________________________________________\n",
      "dropout (Dropout)            (None, 101, 128)          0         \n",
      "_________________________________________________________________\n",
      "gru_1 (GRU)                  (None, 101, 64)           37248     \n",
      "_________________________________________________________________\n",
      "batch_normalization_1 (Batch (None, 101, 64)           256       \n",
      "_________________________________________________________________\n",
      "dropout_1 (Dropout)          (None, 101, 64)           0         \n",
      "_________________________________________________________________\n",
      "gru_2 (GRU)                  (None, 32)                9408      \n",
      "_________________________________________________________________\n",
      "dense (Dense)                (None, 1)                 33        \n",
      "=================================================================\n",
      "Total params: 74,337\n",
      "Trainable params: 73,953\n",
      "Non-trainable params: 384\n",
      "_________________________________________________________________\n"
     ]
    }
   ],
   "source": [
    "model_lstm =  Sequential([\n",
    "    layers.Bidirectional(GRU(64, return_sequences=True), input_shape=(101, 4)),\n",
    "    BatchNormalization(),\n",
    "    Dropout(0.1),\n",
    "    GRU(64, return_sequences=True),\n",
    "    BatchNormalization(),\n",
    "    Dropout(0.3),\n",
    "    GRU(32),\n",
    "    Dense(1, activation='sigmoid', kernel_regularizer='l1_l2')\n",
    "])\n",
    "\n",
    "model_lstm.compile(optimizer='adam', loss='BinaryCrossentropy', metrics=['AUC', 'accuracy'])\n",
    "model_lstm.summary()"
   ]
  },
  {
   "cell_type": "code",
   "execution_count": null,
   "metadata": {
    "id": "UFlw8_QHhgRN"
   },
   "outputs": [],
   "source": [
    "\n",
    "checkpoint_filepath = SAVE_PATH + 'BiGRU'\n",
    "model_checkpoint_callback = tf.keras.callbacks.ModelCheckpoint(\n",
    "    filepath = checkpoint_filepath,\n",
    "    save_weights_only = False,\n",
    "    monitor = 'val_accuracy',\n",
    "    mode = 'max',\n",
    "    save_best_only = True)\n",
    "csv_logger = CSVLogger(SAVE_PATH + 'BiGRU' + '/train_history.csv', append=False)\n",
    "\n",
    "model_lstm.fit(X_train, y_train, epochs=50, batch_size=128, validation_data=(X_valid, y_valid),\n",
    "        verbose=2, callbacks=[model_checkpoint_callback, csv_logger])"
   ]
  },
  {
   "cell_type": "code",
   "execution_count": null,
   "metadata": {
    "colab": {
     "background_save": true
    },
    "id": "egxP1BdixFcT"
   },
   "outputs": [],
   "source": [
    "model_lstm = tf.keras.models.load_model(SAVE_PATH+'BiGRU')\n",
    "model_lstm.evaluate(X_test, y_test)"
   ]
  },
  {
   "cell_type": "code",
   "execution_count": null,
   "metadata": {
    "colab": {
     "background_save": true
    },
    "id": "R9kBt8wiTkS7"
   },
   "outputs": [],
   "source": [
    "model_single =  Sequential([\n",
    "    layers.Bidirectional(GRU(128), input_shape=(101, 4)),\n",
    "    BatchNormalization(),\n",
    "    Dense(1, activation='sigmoid', kernel_regularizer='l1_l2')\n",
    "])\n",
    "\n",
    "model_single.compile(optimizer='adam', loss='BinaryCrossentropy', metrics=['AUC', 'accuracy'])\n",
    "model_single.summary()"
   ]
  },
  {
   "cell_type": "code",
   "execution_count": null,
   "metadata": {
    "colab": {
     "background_save": true
    },
    "id": "V2phabHEX9D5"
   },
   "outputs": [],
   "source": [
    "checkpoint_filepath = SAVE_PATH + 'OneGRU'\n",
    "model_checkpoint_callback = tf.keras.callbacks.ModelCheckpoint(\n",
    "    filepath = checkpoint_filepath,\n",
    "    save_weights_only = False,\n",
    "    monitor = 'val_accuracy',\n",
    "    mode = 'max',\n",
    "    save_best_only = True)\n",
    "csv_logger = CSVLogger(checkpoint_filepath+'/train_history.csv', append=False)"
   ]
  },
  {
   "cell_type": "code",
   "execution_count": null,
   "metadata": {
    "colab": {
     "background_save": true
    },
    "id": "fCpb0wk_TzoA"
   },
   "outputs": [],
   "source": [
    "model_single.fit(X_train, y_train, epochs=50, batch_size=128, validation_data=(X_valid, y_valid),\n",
    "        verbose=2, callbacks=[model_checkpoint_callback, csv_logger])"
   ]
  },
  {
   "cell_type": "code",
   "execution_count": null,
   "metadata": {
    "id": "ooHmefARa-Dr"
   },
   "outputs": [],
   "source": [
    "model_single = tf.keras.models.load_model(SAVE_PATH+'OneGRU')\n",
    "model_single.evaluate(X_test, y_test)"
   ]
  },
  {
   "cell_type": "code",
   "execution_count": null,
   "metadata": {
    "id": "d47Cjwzunm0C"
   },
   "outputs": [],
   "source": [
    "while True:\n",
    "  pass\n",
    "  "
   ]
  }
 ],
 "metadata": {
  "accelerator": "GPU",
  "colab": {
   "collapsed_sections": [],
   "name": "BiGRU.ipynb",
   "version": ""
  },
  "kernelspec": {
   "display_name": "Python 3",
   "language": "python",
   "name": "python3"
  },
  "language_info": {
   "codemirror_mode": {
    "name": "ipython",
    "version": 3
   },
   "file_extension": ".py",
   "mimetype": "text/x-python",
   "name": "python",
   "nbconvert_exporter": "python",
   "pygments_lexer": "ipython3",
   "version": "3.8.8"
  }
 },
 "nbformat": 4,
 "nbformat_minor": 1
}
