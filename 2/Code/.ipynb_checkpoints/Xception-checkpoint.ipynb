{
 "cells": [
  {
   "cell_type": "code",
   "execution_count": 1,
   "metadata": {
    "colab": {
     "base_uri": "https://localhost:8080/"
    },
    "executionInfo": {
     "elapsed": 2535,
     "status": "ok",
     "timestamp": 1616909823508,
     "user": {
      "displayName": "Hugo Zhang",
      "photoUrl": "https://lh3.googleusercontent.com/a-/AOh14Gi87uWoq95BtUT0g8tmuQXbiVZqVIDr4K4YB-Lk=s64",
      "userId": "08510036422986421161"
     },
     "user_tz": -480
    },
    "id": "SyNwPYJIlxpA",
    "outputId": "1b63aef1-21db-49df-ccb2-e77e3f5abf03"
   },
   "outputs": [
    {
     "name": "stdout",
     "output_type": "stream",
     "text": [
      "Tensorflow Edition: 2.4.1\n"
     ]
    }
   ],
   "source": [
    "import tensorflow as tf\n",
    "import re\n",
    "import numpy as np\n",
    "import pandas as pd\n",
    "import matplotlib.pyplot as plt\n",
    "import seaborn as sns\n",
    "import warnings\n",
    "import matplotlib\n",
    "\n",
    "print(\"Tensorflow Edition:\", tf.__version__)\n",
    "seed = 2020\n",
    "np.random.seed(seed)\n",
    "tf.random.set_seed(seed)\n",
    "\n",
    "warnings.filterwarnings('ignore')\n",
    "%matplotlib inline"
   ]
  },
  {
   "cell_type": "code",
   "execution_count": 2,
   "metadata": {
    "executionInfo": {
     "elapsed": 2533,
     "status": "ok",
     "timestamp": 1616909823509,
     "user": {
      "displayName": "Hugo Zhang",
      "photoUrl": "https://lh3.googleusercontent.com/a-/AOh14Gi87uWoq95BtUT0g8tmuQXbiVZqVIDr4K4YB-Lk=s64",
      "userId": "08510036422986421161"
     },
     "user_tz": -480
    },
    "id": "sm9zFWjTlxpP"
   },
   "outputs": [],
   "source": [
    "from tensorflow.keras import layers\n",
    "from tensorflow.keras.models import Sequential, Model\n",
    "from tensorflow.keras.layers import Dense, Dropout, Flatten, Activation, BatchNormalization\n",
    "from tensorflow.keras.layers import LSTM, GRU\n",
    "from tensorflow.keras.callbacks import CSVLogger"
   ]
  },
  {
   "cell_type": "code",
   "execution_count": 3,
   "metadata": {
    "colab": {
     "base_uri": "https://localhost:8080/"
    },
    "executionInfo": {
     "elapsed": 3181,
     "status": "ok",
     "timestamp": 1616909824164,
     "user": {
      "displayName": "Hugo Zhang",
      "photoUrl": "https://lh3.googleusercontent.com/a-/AOh14Gi87uWoq95BtUT0g8tmuQXbiVZqVIDr4K4YB-Lk=s64",
      "userId": "08510036422986421161"
     },
     "user_tz": -480
    },
    "id": "fMkRc7XXmYuQ",
    "outputId": "b0cf8bd5-cde0-405f-856c-fd6e6f9e2aa4"
   },
   "outputs": [
    {
     "name": "stdout",
     "output_type": "stream",
     "text": [
      "Mounted at /content/drive\n"
     ]
    }
   ],
   "source": [
    "from google.colab import drive\n",
    "#drive.mount('/content/drive')\n",
    "drive.mount(\"/content/drive\", force_remount=True)"
   ]
  },
  {
   "cell_type": "code",
   "execution_count": 4,
   "metadata": {
    "executionInfo": {
     "elapsed": 3178,
     "status": "ok",
     "timestamp": 1616909824165,
     "user": {
      "displayName": "Hugo Zhang",
      "photoUrl": "https://lh3.googleusercontent.com/a-/AOh14Gi87uWoq95BtUT0g8tmuQXbiVZqVIDr4K4YB-Lk=s64",
      "userId": "08510036422986421161"
     },
     "user_tz": -480
    },
    "id": "M09vSBZNlxpO"
   },
   "outputs": [],
   "source": [
    "DATA_PROJECT = '/content/drive/MyDrive/Project/Data/'\n",
    "SAVE_PATH = '/content/drive/MyDrive/Project/Model/'\n",
    "\n",
    "X_train = np.load(DATA_PROJECT+'train.npy')\n",
    "X_train = X_train.astype(float)\n",
    "y_train = np.load(DATA_PROJECT+'train_labels.npy')\n",
    "\n",
    "X_valid = np.load(DATA_PROJECT+'valid.npy')\n",
    "X_valid = X_valid.astype(float)\n",
    "y_valid = np.load(DATA_PROJECT+'valid_labels.npy')\n",
    "\n",
    "X_test = np.load(DATA_PROJECT+'test.npy')\n",
    "X_test = X_test.astype(float)\n",
    "y_test = np.load(DATA_PROJECT+'test_labels.npy')\n",
    "\n",
    "X_list = [X_train, X_valid, X_test]\n",
    "y_list = [y_train, y_valid, y_test]"
   ]
  },
  {
   "cell_type": "code",
   "execution_count": 5,
   "metadata": {
    "executionInfo": {
     "elapsed": 3176,
     "status": "ok",
     "timestamp": 1616909824165,
     "user": {
      "displayName": "Hugo Zhang",
      "photoUrl": "https://lh3.googleusercontent.com/a-/AOh14Gi87uWoq95BtUT0g8tmuQXbiVZqVIDr4K4YB-Lk=s64",
      "userId": "08510036422986421161"
     },
     "user_tz": -480
    },
    "id": "Dmen3lTDCsX2"
   },
   "outputs": [],
   "source": [
    "def get_position_matrix(data_shape):\n",
    "  position = np.zeros(data_shape)\n",
    "  d = position.shape[1]\n",
    "  for i in range(position.shape[0]):\n",
    "    for j in range(round(position.shape[1]/2)):\n",
    "      w = 1 / 10000**(2*j/d)\n",
    "      position[i, 2*j] = np.sin(w*i)\n",
    "      position[i, 2*j+1] = np.cos(w*i)\n",
    "  return position\n",
    "  "
   ]
  },
  {
   "cell_type": "code",
   "execution_count": 6,
   "metadata": {
    "executionInfo": {
     "elapsed": 3175,
     "status": "ok",
     "timestamp": 1616909824165,
     "user": {
      "displayName": "Hugo Zhang",
      "photoUrl": "https://lh3.googleusercontent.com/a-/AOh14Gi87uWoq95BtUT0g8tmuQXbiVZqVIDr4K4YB-Lk=s64",
      "userId": "08510036422986421161"
     },
     "user_tz": -480
    },
    "id": "O29f0KjAL_iT"
   },
   "outputs": [],
   "source": [
    "def po_data(data, po_matrix, reduce_rate):\n",
    "  data_po = data.copy()\n",
    "  data_po = data_po.astype(np.float32)\n",
    "  data_length = data_po.shape[0]\n",
    "  for i in range(data_length):\n",
    "    data_po[i,:] = data_po[i,:] + po_matrix * reduce_rate\n",
    "  \n",
    "  return data_po\n"
   ]
  },
  {
   "cell_type": "code",
   "execution_count": 7,
   "metadata": {
    "executionInfo": {
     "elapsed": 3670,
     "status": "ok",
     "timestamp": 1616909824662,
     "user": {
      "displayName": "Hugo Zhang",
      "photoUrl": "https://lh3.googleusercontent.com/a-/AOh14Gi87uWoq95BtUT0g8tmuQXbiVZqVIDr4K4YB-Lk=s64",
      "userId": "08510036422986421161"
     },
     "user_tz": -480
    },
    "id": "1HZ0DZU2P-5L"
   },
   "outputs": [],
   "source": [
    "po_list = []\n",
    "data_shape = X_train[1,:].shape\n",
    "po_matrix = get_position_matrix(data_shape)\n",
    "for data in X_list:\n",
    "  po_list.append(po_data(data, po_matrix, 1))\n"
   ]
  },
  {
   "cell_type": "code",
   "execution_count": 8,
   "metadata": {
    "colab": {
     "base_uri": "https://localhost:8080/",
     "height": 105
    },
    "executionInfo": {
     "elapsed": 4509,
     "status": "ok",
     "timestamp": 1616909825503,
     "user": {
      "displayName": "Hugo Zhang",
      "photoUrl": "https://lh3.googleusercontent.com/a-/AOh14Gi87uWoq95BtUT0g8tmuQXbiVZqVIDr4K4YB-Lk=s64",
      "userId": "08510036422986421161"
     },
     "user_tz": -480
    },
    "id": "EqORdunFRFri",
    "outputId": "7e397779-a00d-4c9b-9d9e-36d5fb4358ef"
   },
   "outputs": [
    {
     "data": {
      "text/plain": [
       "<matplotlib.image.AxesImage at 0x7f561a8054d0>"
      ]
     },
     "execution_count": 8,
     "metadata": {
      "tags": []
     },
     "output_type": "execute_result"
    },
    {
     "data": {
      "image/png": "[encoded data removed]",
      "text/plain": [
       "<Figure size 1296x720 with 1 Axes>"
      ]
     },
     "metadata": {
      "needs_background": "light",
      "tags": []
     },
     "output_type": "display_data"
    }
   ],
   "source": [
    "plt.figure(1, figsize=(18,10))\n",
    "plt.imshow(po_matrix.T)"
   ]
  },
  {
   "cell_type": "code",
   "execution_count": 9,
   "metadata": {
    "colab": {
     "base_uri": "https://localhost:8080/"
    },
    "executionInfo": {
     "elapsed": 4979,
     "status": "ok",
     "timestamp": 1616909825974,
     "user": {
      "displayName": "Hugo Zhang",
      "photoUrl": "https://lh3.googleusercontent.com/a-/AOh14Gi87uWoq95BtUT0g8tmuQXbiVZqVIDr4K4YB-Lk=s64",
      "userId": "08510036422986421161"
     },
     "user_tz": -480
    },
    "id": "xbPQ3T8DCOVD",
    "outputId": "04b22748-34f6-4ba2-8ebd-e1eef995ca7c"
   },
   "outputs": [
    {
     "name": "stdout",
     "output_type": "stream",
     "text": [
      "Model: \"model\"\n",
      "__________________________________________________________________________________________________\n",
      "Layer (type)                    Output Shape         Param #     Connected to                     \n",
      "==================================================================================================\n",
      "input_1 (InputLayer)            [(None, 101, 4)]     0                                            \n",
      "__________________________________________________________________________________________________\n",
      "conv1d (Conv1D)                 (None, 101, 128)     1664        input_1[0][0]                    \n",
      "__________________________________________________________________________________________________\n",
      "conv1d_1 (Conv1D)               (None, 101, 64)      1344        input_1[0][0]                    \n",
      "__________________________________________________________________________________________________\n",
      "conv1d_2 (Conv1D)               (None, 101, 32)      928         input_1[0][0]                    \n",
      "__________________________________________________________________________________________________\n",
      "max_pooling1d (MaxPooling1D)    (None, 101, 4)       0           input_1[0][0]                    \n",
      "__________________________________________________________________________________________________\n",
      "concatenate (Concatenate)       (None, 101, 228)     0           conv1d[0][0]                     \n",
      "                                                                 conv1d_1[0][0]                   \n",
      "                                                                 conv1d_2[0][0]                   \n",
      "                                                                 max_pooling1d[0][0]              \n",
      "__________________________________________________________________________________________________\n",
      "conv1d_5 (Conv1D)               (None, 101, 128)     87680       concatenate[0][0]                \n",
      "__________________________________________________________________________________________________\n",
      "conv1d_6 (Conv1D)               (None, 101, 64)      73024       concatenate[0][0]                \n",
      "__________________________________________________________________________________________________\n",
      "conv1d_7 (Conv1D)               (None, 101, 32)      51104       concatenate[0][0]                \n",
      "__________________________________________________________________________________________________\n",
      "max_pooling1d_1 (MaxPooling1D)  (None, 101, 228)     0           concatenate[0][0]                \n",
      "__________________________________________________________________________________________________\n",
      "concatenate_1 (Concatenate)     (None, 101, 452)     0           conv1d_5[0][0]                   \n",
      "                                                                 conv1d_6[0][0]                   \n",
      "                                                                 conv1d_7[0][0]                   \n",
      "                                                                 max_pooling1d_1[0][0]            \n",
      "__________________________________________________________________________________________________\n",
      "conv1d_10 (Conv1D)              (None, 101, 64)      86848       concatenate_1[0][0]              \n",
      "__________________________________________________________________________________________________\n",
      "flatten (Flatten)               (None, 6464)         0           conv1d_10[0][0]                  \n",
      "__________________________________________________________________________________________________\n",
      "dropout (Dropout)               (None, 6464)         0           flatten[0][0]                    \n",
      "__________________________________________________________________________________________________\n",
      "dense (Dense)                   (None, 1)            6465        dropout[0][0]                    \n",
      "==================================================================================================\n",
      "Total params: 309,057\n",
      "Trainable params: 309,057\n",
      "Non-trainable params: 0\n",
      "__________________________________________________________________________________________________\n"
     ]
    }
   ],
   "source": [
    "from keras.models import Model\n",
    "from keras.layers import Input\n",
    "from keras.layers import Activation\n",
    "from keras.layers import Conv1D\n",
    "from keras.layers import MaxPooling1D, AveragePooling1D\n",
    "from keras.layers import add\n",
    "from keras.utils import plot_model\n",
    "from keras.layers.merge import concatenate\n",
    "\n",
    "# function for creating a naive inception block\n",
    "def inception_module(layer_in, f1, f2, f3, f4, f5):\n",
    "  conv1 = Conv1D(f1, 3, padding='same', activation='relu')(layer_in)\n",
    "  conv3 = Conv1D(f2, 5, padding='same', activation='relu')(layer_in)\n",
    "  conv5 = Conv1D(f3, 7, padding='same', activation='relu')(layer_in)\n",
    "  conv10 = Conv1D(f4, 10, padding='same', strides=2, activation='relu', use_bias=True)(layer_in)\n",
    "  conv20 = Conv1D(f5, 20, padding='same', strides=2, activation='relu', use_bias=True)(layer_in)\n",
    "  pool = MaxPooling1D(3, strides=1, padding='same')(layer_in)\n",
    "  layer_out = concatenate([conv1, conv3, conv5, pool], axis=-1)\n",
    "  return layer_out\n",
    "\n",
    "\n",
    "base_filter_num = 16\n",
    "visible = Input(shape=(101,4))\n",
    "layer_1 = inception_module(visible, 128, 64, 32, 16, 16)\n",
    "layer_2 = inception_module(layer_1, 128, 64, 32, 16, 16)\n",
    "layer_3 = Conv1D(64, 3, padding='same', activation='relu')(layer_2)\n",
    "flatten = Flatten()(layer_3)\n",
    "#norm = BatchNormalization()(flatten)\n",
    "dropout_1 = Dropout(0.5)(flatten)\n",
    "output = Dense(1, activation='sigmoid', kernel_regularizer='l1_l2')(dropout_1)\n",
    "\n",
    "model_incept = Model(inputs=visible, outputs=output)\n",
    "model_incept.compile(optimizer='adam', loss='BinaryCrossentropy', metrics=['accuracy', 'AUC'])\n",
    "model_incept.summary()\n",
    "# plot model architecture\n",
    "#plot_model(model_res, show_shapes=True, to_file='residual_module.png')"
   ]
  },
  {
   "cell_type": "code",
   "execution_count": 10,
   "metadata": {
    "executionInfo": {
     "elapsed": 4978,
     "status": "ok",
     "timestamp": 1616909825975,
     "user": {
      "displayName": "Hugo Zhang",
      "photoUrl": "https://lh3.googleusercontent.com/a-/AOh14Gi87uWoq95BtUT0g8tmuQXbiVZqVIDr4K4YB-Lk=s64",
      "userId": "08510036422986421161"
     },
     "user_tz": -480
    },
    "id": "AeDbKf6nQRxd"
   },
   "outputs": [],
   "source": [
    "checkpoint_filepath = SAVE_PATH + 'Inception'\n",
    "model_checkpoint_callback = tf.keras.callbacks.ModelCheckpoint(\n",
    "    filepath = checkpoint_filepath,\n",
    "    save_weights_only = False,\n",
    "    monitor = 'val_accuracy',\n",
    "    mode = 'max',\n",
    "    save_best_only = True)\n",
    "csv_logger = CSVLogger(checkpoint_filepath+'/train_history.csv', append=False)"
   ]
  },
  {
   "cell_type": "code",
   "execution_count": 12,
   "metadata": {
    "colab": {
     "base_uri": "https://localhost:8080/"
    },
    "executionInfo": {
     "elapsed": 408065,
     "status": "ok",
     "timestamp": 1616910695729,
     "user": {
      "displayName": "Hugo Zhang",
      "photoUrl": "https://lh3.googleusercontent.com/a-/AOh14Gi87uWoq95BtUT0g8tmuQXbiVZqVIDr4K4YB-Lk=s64",
      "userId": "08510036422986421161"
     },
     "user_tz": -480
    },
    "id": "wurTzs4EQS1R",
    "outputId": "03f55878-7ae1-4f49-a8f8-1338cb192e53"
   },
   "outputs": [
    {
     "name": "stdout",
     "output_type": "stream",
     "text": [
      "Epoch 1/50\n",
      "424/424 - 8s - loss: 0.2212 - accuracy: 0.9324 - auc: 0.9810 - val_loss: 0.2692 - val_accuracy: 0.9138 - val_auc: 0.9702\n",
      "Epoch 2/50\n",
      "424/424 - 8s - loss: 0.2176 - accuracy: 0.9342 - auc: 0.9816 - val_loss: 0.2676 - val_accuracy: 0.9126 - val_auc: 0.9702\n",
      "Epoch 3/50\n",
      "424/424 - 8s - loss: 0.2148 - accuracy: 0.9364 - auc: 0.9822 - val_loss: 0.2767 - val_accuracy: 0.9088 - val_auc: 0.9691\n",
      "Epoch 4/50\n",
      "424/424 - 8s - loss: 0.2152 - accuracy: 0.9360 - auc: 0.9821 - val_loss: 0.2675 - val_accuracy: 0.9135 - val_auc: 0.9700\n",
      "Epoch 5/50\n",
      "424/424 - 8s - loss: 0.2132 - accuracy: 0.9357 - auc: 0.9825 - val_loss: 0.2732 - val_accuracy: 0.9150 - val_auc: 0.9701\n",
      "Epoch 6/50\n",
      "424/424 - 8s - loss: 0.2088 - accuracy: 0.9383 - auc: 0.9835 - val_loss: 0.2889 - val_accuracy: 0.9115 - val_auc: 0.9693\n",
      "Epoch 7/50\n",
      "424/424 - 8s - loss: 0.2100 - accuracy: 0.9370 - auc: 0.9834 - val_loss: 0.2716 - val_accuracy: 0.9155 - val_auc: 0.9698\n",
      "Epoch 8/50\n",
      "424/424 - 8s - loss: 0.2051 - accuracy: 0.9399 - auc: 0.9842 - val_loss: 0.2697 - val_accuracy: 0.9175 - val_auc: 0.9693\n",
      "INFO:tensorflow:Assets written to: /content/drive/MyDrive/Project/Model/Inception/assets\n",
      "Epoch 9/50\n",
      "424/424 - 8s - loss: 0.2047 - accuracy: 0.9403 - auc: 0.9844 - val_loss: 0.2686 - val_accuracy: 0.9158 - val_auc: 0.9703\n",
      "Epoch 10/50\n",
      "424/424 - 8s - loss: 0.2021 - accuracy: 0.9419 - auc: 0.9849 - val_loss: 0.2855 - val_accuracy: 0.9083 - val_auc: 0.9693\n",
      "Epoch 11/50\n",
      "424/424 - 8s - loss: 0.1999 - accuracy: 0.9429 - auc: 0.9853 - val_loss: 0.2714 - val_accuracy: 0.9160 - val_auc: 0.9699\n",
      "Epoch 12/50\n",
      "424/424 - 8s - loss: 0.1965 - accuracy: 0.9436 - auc: 0.9859 - val_loss: 0.2712 - val_accuracy: 0.9157 - val_auc: 0.9699\n",
      "Epoch 13/50\n",
      "424/424 - 8s - loss: 0.2002 - accuracy: 0.9410 - auc: 0.9854 - val_loss: 0.2733 - val_accuracy: 0.9172 - val_auc: 0.9696\n",
      "Epoch 14/50\n",
      "424/424 - 8s - loss: 0.1994 - accuracy: 0.9423 - auc: 0.9855 - val_loss: 0.2763 - val_accuracy: 0.9141 - val_auc: 0.9681\n",
      "Epoch 15/50\n",
      "424/424 - 8s - loss: 0.1969 - accuracy: 0.9440 - auc: 0.9858 - val_loss: 0.2784 - val_accuracy: 0.9161 - val_auc: 0.9697\n",
      "Epoch 16/50\n",
      "424/424 - 8s - loss: 0.1938 - accuracy: 0.9445 - auc: 0.9865 - val_loss: 0.2833 - val_accuracy: 0.9082 - val_auc: 0.9685\n",
      "Epoch 17/50\n",
      "424/424 - 8s - loss: 0.1899 - accuracy: 0.9467 - auc: 0.9873 - val_loss: 0.2788 - val_accuracy: 0.9139 - val_auc: 0.9692\n",
      "Epoch 18/50\n",
      "424/424 - 8s - loss: 0.1863 - accuracy: 0.9474 - auc: 0.9879 - val_loss: 0.2843 - val_accuracy: 0.9122 - val_auc: 0.9689\n",
      "Epoch 19/50\n",
      "424/424 - 8s - loss: 0.1879 - accuracy: 0.9486 - auc: 0.9876 - val_loss: 0.2793 - val_accuracy: 0.9144 - val_auc: 0.9688\n",
      "Epoch 20/50\n",
      "424/424 - 8s - loss: 0.1872 - accuracy: 0.9480 - auc: 0.9879 - val_loss: 0.2725 - val_accuracy: 0.9128 - val_auc: 0.9684\n",
      "Epoch 21/50\n",
      "424/424 - 8s - loss: 0.1805 - accuracy: 0.9498 - auc: 0.9891 - val_loss: 0.2801 - val_accuracy: 0.9142 - val_auc: 0.9684\n",
      "Epoch 22/50\n",
      "424/424 - 8s - loss: 0.1844 - accuracy: 0.9487 - auc: 0.9885 - val_loss: 0.2794 - val_accuracy: 0.9166 - val_auc: 0.9689\n",
      "Epoch 23/50\n",
      "424/424 - 8s - loss: 0.1824 - accuracy: 0.9494 - auc: 0.9888 - val_loss: 0.2930 - val_accuracy: 0.9125 - val_auc: 0.9673\n",
      "Epoch 24/50\n",
      "424/424 - 8s - loss: 0.1795 - accuracy: 0.9515 - auc: 0.9891 - val_loss: 0.2834 - val_accuracy: 0.9168 - val_auc: 0.9690\n",
      "Epoch 25/50\n",
      "424/424 - 8s - loss: 0.1757 - accuracy: 0.9536 - auc: 0.9896 - val_loss: 0.2959 - val_accuracy: 0.9135 - val_auc: 0.9683\n",
      "Epoch 26/50\n",
      "424/424 - 8s - loss: 0.1758 - accuracy: 0.9523 - auc: 0.9897 - val_loss: 0.2818 - val_accuracy: 0.9161 - val_auc: 0.9682\n",
      "Epoch 27/50\n",
      "424/424 - 8s - loss: 0.1738 - accuracy: 0.9527 - auc: 0.9902 - val_loss: 0.2847 - val_accuracy: 0.9132 - val_auc: 0.9670\n",
      "Epoch 28/50\n",
      "424/424 - 8s - loss: 0.1715 - accuracy: 0.9546 - auc: 0.9904 - val_loss: 0.2835 - val_accuracy: 0.9140 - val_auc: 0.9680\n",
      "Epoch 29/50\n",
      "424/424 - 8s - loss: 0.1705 - accuracy: 0.9547 - auc: 0.9906 - val_loss: 0.3032 - val_accuracy: 0.9129 - val_auc: 0.9669\n",
      "Epoch 30/50\n",
      "424/424 - 8s - loss: 0.1682 - accuracy: 0.9554 - auc: 0.9910 - val_loss: 0.2995 - val_accuracy: 0.9118 - val_auc: 0.9665\n",
      "Epoch 31/50\n",
      "424/424 - 8s - loss: 0.1661 - accuracy: 0.9578 - auc: 0.9912 - val_loss: 0.2927 - val_accuracy: 0.9117 - val_auc: 0.9670\n",
      "Epoch 32/50\n",
      "424/424 - 8s - loss: 0.1671 - accuracy: 0.9552 - auc: 0.9913 - val_loss: 0.2929 - val_accuracy: 0.9121 - val_auc: 0.9677\n",
      "Epoch 33/50\n",
      "424/424 - 8s - loss: 0.1664 - accuracy: 0.9572 - auc: 0.9912 - val_loss: 0.2899 - val_accuracy: 0.9113 - val_auc: 0.9670\n",
      "Epoch 34/50\n",
      "424/424 - 8s - loss: 0.1641 - accuracy: 0.9584 - auc: 0.9917 - val_loss: 0.2920 - val_accuracy: 0.9119 - val_auc: 0.9673\n",
      "Epoch 35/50\n",
      "424/424 - 8s - loss: 0.1591 - accuracy: 0.9592 - auc: 0.9924 - val_loss: 0.3003 - val_accuracy: 0.9120 - val_auc: 0.9665\n",
      "Epoch 36/50\n",
      "424/424 - 8s - loss: 0.1577 - accuracy: 0.9592 - auc: 0.9927 - val_loss: 0.3024 - val_accuracy: 0.9124 - val_auc: 0.9674\n",
      "Epoch 37/50\n",
      "424/424 - 8s - loss: 0.1581 - accuracy: 0.9597 - auc: 0.9925 - val_loss: 0.3054 - val_accuracy: 0.9135 - val_auc: 0.9670\n",
      "Epoch 38/50\n",
      "424/424 - 8s - loss: 0.1570 - accuracy: 0.9600 - auc: 0.9929 - val_loss: 0.3187 - val_accuracy: 0.9096 - val_auc: 0.9667\n",
      "Epoch 39/50\n",
      "424/424 - 8s - loss: 0.1562 - accuracy: 0.9609 - auc: 0.9928 - val_loss: 0.3144 - val_accuracy: 0.9125 - val_auc: 0.9662\n",
      "Epoch 40/50\n",
      "424/424 - 8s - loss: 0.1560 - accuracy: 0.9602 - auc: 0.9927 - val_loss: 0.3227 - val_accuracy: 0.9062 - val_auc: 0.9648\n",
      "Epoch 41/50\n",
      "424/424 - 8s - loss: 0.1550 - accuracy: 0.9613 - auc: 0.9931 - val_loss: 0.3017 - val_accuracy: 0.9129 - val_auc: 0.9665\n",
      "Epoch 42/50\n",
      "424/424 - 8s - loss: 0.1504 - accuracy: 0.9629 - auc: 0.9936 - val_loss: 0.3117 - val_accuracy: 0.9126 - val_auc: 0.9647\n",
      "Epoch 43/50\n",
      "424/424 - 8s - loss: 0.1485 - accuracy: 0.9646 - auc: 0.9938 - val_loss: 0.3061 - val_accuracy: 0.9110 - val_auc: 0.9660\n",
      "Epoch 44/50\n",
      "424/424 - 8s - loss: 0.1501 - accuracy: 0.9631 - auc: 0.9937 - val_loss: 0.3243 - val_accuracy: 0.9091 - val_auc: 0.9656\n",
      "Epoch 45/50\n",
      "424/424 - 8s - loss: 0.1481 - accuracy: 0.9643 - auc: 0.9939 - val_loss: 0.3184 - val_accuracy: 0.9111 - val_auc: 0.9649\n",
      "Epoch 46/50\n",
      "424/424 - 8s - loss: 0.1476 - accuracy: 0.9642 - auc: 0.9940 - val_loss: 0.3151 - val_accuracy: 0.9144 - val_auc: 0.9653\n",
      "Epoch 47/50\n",
      "424/424 - 8s - loss: 0.1459 - accuracy: 0.9652 - auc: 0.9941 - val_loss: 0.3609 - val_accuracy: 0.9018 - val_auc: 0.9630\n",
      "Epoch 48/50\n",
      "424/424 - 8s - loss: 0.1458 - accuracy: 0.9646 - auc: 0.9942 - val_loss: 0.3166 - val_accuracy: 0.9130 - val_auc: 0.9646\n",
      "Epoch 49/50\n",
      "424/424 - 8s - loss: 0.1446 - accuracy: 0.9652 - auc: 0.9944 - val_loss: 0.3453 - val_accuracy: 0.9043 - val_auc: 0.9640\n",
      "Epoch 50/50\n",
      "424/424 - 8s - loss: 0.1406 - accuracy: 0.9666 - auc: 0.9949 - val_loss: 0.3198 - val_accuracy: 0.9063 - val_auc: 0.9641\n"
     ]
    },
    {
     "data": {
      "text/plain": [
       "<tensorflow.python.keras.callbacks.History at 0x7f55ce2249d0>"
      ]
     },
     "execution_count": 12,
     "metadata": {
      "tags": []
     },
     "output_type": "execute_result"
    }
   ],
   "source": [
    "model_incept.fit(po_list[0], y_train, epochs=50, batch_size=128, validation_data=(po_list[1], y_valid),\n",
    "        verbose=2, callbacks=[model_checkpoint_callback, csv_logger])"
   ]
  }
 ],
 "metadata": {
  "accelerator": "GPU",
  "colab": {
   "name": "Xception.ipynb",
   "provenance": []
  },
  "kernelspec": {
   "display_name": "Python 3",
   "language": "python",
   "name": "python3"
  },
  "language_info": {
   "codemirror_mode": {
    "name": "ipython",
    "version": 3
   },
   "file_extension": ".py",
   "mimetype": "text/x-python",
   "name": "python",
   "nbconvert_exporter": "python",
   "pygments_lexer": "ipython3",
   "version": "3.8.8"
  }
 },
 "nbformat": 4,
 "nbformat_minor": 1
}
